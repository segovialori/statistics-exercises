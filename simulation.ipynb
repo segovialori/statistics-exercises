{
 "cells": [
  {
   "cell_type": "code",
   "execution_count": 3,
   "metadata": {},
   "outputs": [],
   "source": [
    "import numpy as np\n",
    "import pandas as pd\n",
    "from math import sqrt"
   ]
  },
  {
   "cell_type": "code",
   "execution_count": 6,
   "metadata": {},
   "outputs": [
    {
     "data": {
      "text/plain": [
       "array([8, 6, 7, ..., 4, 3, 6])"
      ]
     },
     "execution_count": 6,
     "metadata": {},
     "output_type": "execute_result"
    }
   ],
   "source": [
    "#1.  How likely is it that you roll doubles when rolling two dice?\n",
    "outcomes = [1,2,3,4,5,6]\n",
    "sims = 10_000\n",
    "trials = 2\n",
    "rolls = np.random.choice(outcomes, size=(sims, trials))\n",
    "rolls\n",
    "sum_of_rolls = rolls.sum(axis=1)\n",
    "(sum_of_rolls % 2\n",
    " \n"
   ]
  },
  {
   "cell_type": "code",
   "execution_count": 82,
   "metadata": {},
   "outputs": [
    {
     "data": {
      "text/plain": [
       "array([[3, 5],\n",
       "       [2, 4],\n",
       "       [6, 2],\n",
       "       ...,\n",
       "       [2, 6],\n",
       "       [6, 2],\n",
       "       [2, 5]])"
      ]
     },
     "execution_count": 82,
     "metadata": {},
     "output_type": "execute_result"
    }
   ],
   "source": [
    "#review\n",
    "#represent outcomes\n",
    "o = [1,2,3,4,5,6]\n",
    "#create the data\n",
    "n_simulations = 1_000_000\n",
    "n_trials = 2\n",
    "rolls = np.random.choice(o, size = (n_simulations,n_trials))\n",
    "rolls\n",
    "\n"
   ]
  },
  {
   "cell_type": "code",
   "execution_count": 81,
   "metadata": {},
   "outputs": [
    {
     "data": {
      "text/plain": [
       "array([2, 5])"
      ]
     },
     "execution_count": 81,
     "metadata": {},
     "output_type": "execute_result"
    }
   ],
   "source": [
    "#using a sum isnt the best option here, since we are looking for two matching elements,\n",
    "#or the number of unique elements\n",
    "np.unique(rolls[2])"
   ]
  },
  {
   "cell_type": "code",
   "execution_count": 84,
   "metadata": {},
   "outputs": [],
   "source": [
    "lst_doubles = [len(np.unique(rolls[n])) for n in range(0, n_simulations - 1) if len(np.unique(rolls[n])) == 1]\n",
    "\n",
    "# did not get to see next step calculated"
   ]
  },
  {
   "cell_type": "code",
   "execution_count": 77,
   "metadata": {},
   "outputs": [
    {
     "data": {
      "text/plain": [
       "0.6337"
      ]
     },
     "execution_count": 77,
     "metadata": {},
     "output_type": "execute_result"
    }
   ],
   "source": [
    "#2.  If you flip 8 coins, what is the probability of getting exactly 3 heads? \n",
    "# What is the probability of getting more than 3 heads?\n",
    "\n",
    "outcomes = [1, 0] #one is heads, 0 is tails\n",
    "flips = np.random.choice(outcomes, size=(10_000, 8), p=[0.50, 0.50])\n",
    "flips\n",
    "num_heads = flips.sum(axis=1)\n",
    "(num_heads == 3).mean()\n",
    "(num_heads > 3).mean()"
   ]
  },
  {
   "cell_type": "code",
   "execution_count": 86,
   "metadata": {},
   "outputs": [
    {
     "data": {
      "text/plain": [
       "array([[0, 1, 0, ..., 1, 0, 1],\n",
       "       [1, 0, 1, ..., 0, 1, 0],\n",
       "       [0, 1, 1, ..., 1, 1, 1],\n",
       "       ...,\n",
       "       [0, 0, 1, ..., 1, 1, 1],\n",
       "       [1, 1, 1, ..., 0, 1, 1],\n",
       "       [0, 1, 1, ..., 0, 1, 0]])"
      ]
     },
     "execution_count": 86,
     "metadata": {},
     "output_type": "execute_result"
    }
   ],
   "source": [
    "#review\n",
    "n_sims = 1_000_000 #nrows\n",
    "n_trials = 8 #ncolumns\n",
    "heads = 1\n",
    "tails = 0\n",
    "flips = np.random.choice([heads, tails], size = (n_sims, n_trials))\n",
    "flips"
   ]
  },
  {
   "cell_type": "code",
   "execution_count": 87,
   "metadata": {},
   "outputs": [
    {
     "data": {
      "text/plain": [
       "0.218241"
      ]
     },
     "execution_count": 87,
     "metadata": {},
     "output_type": "execute_result"
    }
   ],
   "source": [
    "numheads = flips.sum(axis=1)\n",
    "calculated_prob = (numheads == 3).mean()\n",
    "calculated_prob"
   ]
  },
  {
   "cell_type": "code",
   "execution_count": 88,
   "metadata": {},
   "outputs": [
    {
     "data": {
      "text/plain": [
       "0.855153"
      ]
     },
     "execution_count": 88,
     "metadata": {},
     "output_type": "execute_result"
    }
   ],
   "source": [
    "calculated_prob = (numheads >= 3).mean()\n",
    "calculated_prob"
   ]
  },
  {
   "cell_type": "code",
   "execution_count": 13,
   "metadata": {},
   "outputs": [
    {
     "data": {
      "text/plain": [
       "0.0614"
      ]
     },
     "execution_count": 13,
     "metadata": {},
     "output_type": "execute_result"
    }
   ],
   "source": [
    "#3. There are approximitely 3 web development cohorts for every 1 data science cohort at Codeup. \n",
    "# Assuming that Codeup randomly selects an alumni to put on a billboard, what are the odds that the two billboards \n",
    "# I drive past both have data science students on them?\n",
    "outcomes = [1,1,1,0]\n",
    "billboard = np.random.choice(outcomes, size=(10_000, 2))\n",
    "\n",
    "ds_billboard = billboard.sum(axis=1)\n",
    "(ds_billboard == 0).mean()"
   ]
  },
  {
   "cell_type": "code",
   "execution_count": 92,
   "metadata": {},
   "outputs": [],
   "source": [
    "#review\n",
    "n_sims = 1_000_000\n",
    "n_trials = 2\n",
    "data_sci = 1\n",
    "web_dev = 0\n",
    "commutes = np.random.choice([data_sci, web_dev], size=(n_sims, n_trials), p = [0.25, 0.75])"
   ]
  },
  {
   "cell_type": "code",
   "execution_count": 94,
   "metadata": {},
   "outputs": [
    {
     "data": {
      "text/plain": [
       "0.062817"
      ]
     },
     "execution_count": 94,
     "metadata": {},
     "output_type": "execute_result"
    }
   ],
   "source": [
    "calculated_prob = (commutes.sum(axis=1) ==2).mean()\n",
    "calculated_prob"
   ]
  },
  {
   "cell_type": "code",
   "execution_count": null,
   "metadata": {},
   "outputs": [],
   "source": []
  },
  {
   "cell_type": "code",
   "execution_count": 35,
   "metadata": {},
   "outputs": [
    {
     "data": {
      "text/plain": [
       "0.7691"
      ]
     },
     "execution_count": 35,
     "metadata": {},
     "output_type": "execute_result"
    }
   ],
   "source": [
    "#4. Codeup students buy, on average, 3 poptart packages (+- 1.5) a day from the snack vending machine. \n",
    "#If on monday the machine is restocked with 17 poptart packages, \n",
    "#how likely is it that I will be able to buy some poptarts on Friday afternoon?\n",
    "mean_poptarts = 3\n",
    "std = 1.5 \n",
    "days = 5\n",
    "\n",
    "poptarts_eaten = np.round(np.random.normal(loc = 3, scale = 1.5, size = (10_000, days)))\n",
    "poptarts_eaten\n",
    "\n",
    "poptarts_per_week = poptarts_eaten.sum(axis=1)\n",
    "(poptarts_per_week <= 17).mean()\n",
    "\n"
   ]
  },
  {
   "cell_type": "code",
   "execution_count": 96,
   "metadata": {},
   "outputs": [
    {
     "data": {
      "text/plain": [
       "array([[2.30975202, 2.57853272, 2.93136502, 2.25543332, 3.44352865],\n",
       "       [3.95122098, 4.65426658, 2.75664657, 2.7072859 , 3.24687066],\n",
       "       [4.09012206, 4.3659959 , 3.46799981, 4.3849494 , 4.43543217],\n",
       "       ...,\n",
       "       [2.00226116, 4.4510013 , 1.88539449, 1.7708638 , 2.38866051],\n",
       "       [1.15301449, 3.11665953, 1.48971391, 2.38252274, 3.92580112],\n",
       "       [1.00387933, 4.01268037, 4.07353145, 2.58774648, 2.73680957]])"
      ]
     },
     "execution_count": 96,
     "metadata": {},
     "output_type": "execute_result"
    }
   ],
   "source": [
    "#review\n",
    "#average # of poptarts consumed\n",
    "pop_avg = 3\n",
    "#deviation of poptarts:1.5\n",
    "pop_std = 1.5\n",
    "n_trials = 5\n",
    "n_sims = 1_000_000\n",
    "#simulated consumed poptarts\n",
    "consumed = np.random.normal(pop_avg, pop_std, size = (n_sims, n_trials))\n",
    "consumed\n"
   ]
  },
  {
   "cell_type": "code",
   "execution_count": 98,
   "metadata": {},
   "outputs": [
    {
     "data": {
      "text/plain": [
       "0.276138"
      ]
     },
     "execution_count": 98,
     "metadata": {},
     "output_type": "execute_result"
    }
   ],
   "source": [
    "calculated = (consumed.sum(axis=1) >= 17).mean()\n",
    "calculated"
   ]
  },
  {
   "cell_type": "code",
   "execution_count": null,
   "metadata": {},
   "outputs": [],
   "source": [
    "\n"
   ]
  },
  {
   "cell_type": "code",
   "execution_count": 22,
   "metadata": {},
   "outputs": [
    {
     "data": {
      "text/plain": [
       "0.2078"
      ]
     },
     "execution_count": 22,
     "metadata": {},
     "output_type": "execute_result"
    }
   ],
   "source": [
    "#5. Compare Heights\n",
    "\n",
    "# -Men have an average height of 178 cm and standard deviation of 8cm.\n",
    "# -Women have a mean of 170, sd = 6cm.\n",
    "# -If a man and woman are chosen at random, P(woman taller than man)?\n",
    "\n",
    "men_height = 178\n",
    "men_std = 8\n",
    "women_height = 170\n",
    "women_std = 6\n",
    "\n",
    "men = np.random.normal(loc = men_height, scale = men_std, size = (10_000))\n",
    "women =  np.random.normal(loc = women_height, scale = women_std, size = (10_000))\n",
    "\n",
    "(women > men).mean()"
   ]
  },
  {
   "cell_type": "code",
   "execution_count": null,
   "metadata": {},
   "outputs": [],
   "source": []
  },
  {
   "cell_type": "code",
   "execution_count": null,
   "metadata": {},
   "outputs": [],
   "source": []
  },
  {
   "cell_type": "code",
   "execution_count": 55,
   "metadata": {},
   "outputs": [
    {
     "data": {
      "text/plain": [
       "0.8177"
      ]
     },
     "execution_count": 55,
     "metadata": {},
     "output_type": "execute_result"
    }
   ],
   "source": [
    "#6. When installing anaconda on a student's computer, \n",
    "# there's a 1 in 250 (.004) chance that the download is corrupted and the installation fails. \n",
    "# What are the odds that after having 50 students download anaconda, \n",
    "# no one has an installation issue? 100 students?\n",
    "# What is the probability that we observe an installation issue within the first 150 students \n",
    "# that download anaconda?\n",
    "# How likely is it that 450 students all download anaconda without an issue?\n",
    "#50\n",
    "outcome = [1,0] #1 = fails, 0=downloads\n",
    "corrupt = np.random.choice(outcome, size=(10_000, 50), p=[1/250, 249/250])\n",
    "\n",
    "corrupt_sum = corrupt.sum(axis=1) #axis=1 means sum acrosss all the rows\n",
    "(corrupt_sum == 0 ).mean() #should be .816\n",
    "\n",
    "# Binomial way (50):\n",
    "# corrupt = sum(np.random.binomial(50, .004, 10_000))\n",
    "# corrupt_sum = sum(np.random.binomial(50, .004, 100_000) \n",
    "# (corrupt_sum== 0).mean()"
   ]
  },
  {
   "cell_type": "code",
   "execution_count": 102,
   "metadata": {},
   "outputs": [],
   "source": [
    "#review\n",
    "nsims = 1_000_000\n",
    "ntrials = 50\n",
    "failure = 1\n",
    "success = 0\n",
    "\n",
    "installs = np.random.choice([failure, success], size=(nsims, ntrials), p=[1/250,249/250])\n"
   ]
  },
  {
   "cell_type": "code",
   "execution_count": 103,
   "metadata": {},
   "outputs": [
    {
     "data": {
      "text/plain": [
       "0.181171"
      ]
     },
     "execution_count": 103,
     "metadata": {},
     "output_type": "execute_result"
    }
   ],
   "source": [
    "calculate = (installs.sum(axis=1) > 0).mean()\n",
    "calculate"
   ]
  },
  {
   "cell_type": "code",
   "execution_count": null,
   "metadata": {},
   "outputs": [],
   "source": []
  },
  {
   "cell_type": "code",
   "execution_count": 56,
   "metadata": {},
   "outputs": [
    {
     "data": {
      "text/plain": [
       "0.6729"
      ]
     },
     "execution_count": 56,
     "metadata": {},
     "output_type": "execute_result"
    }
   ],
   "source": [
    "#100\n",
    "outcome = [1,0] #1 = fails, 0=downloads\n",
    "corrupt = np.random.choice(outcome, size=(10_000, 100), p=[1/250, 249/250])\n",
    "corrupt_sum = corrupt.sum(axis=1) #axis=1 means sum acrosss all the rows\n",
    "(corrupt_sum == 0 ).mean()"
   ]
  },
  {
   "cell_type": "code",
   "execution_count": 72,
   "metadata": {},
   "outputs": [
    {
     "data": {
      "text/plain": [
       "0.4617"
      ]
     },
     "execution_count": 72,
     "metadata": {},
     "output_type": "execute_result"
    }
   ],
   "source": [
    "# What is the probability that we observe an installation issue within the first 150 students \n",
    "# that download anaconda?\n",
    "outcome = [1,0] #1 = fails, 0=downloads\n",
    "corrupt = np.random.choice(outcome, size=(10_000, 150), p=[1/250, 249/250])\n",
    "corrupt_sum = corrupt.sum(axis=1) #axis=1 means sum acrosss all the rows\n",
    "(corrupt_sum > 0 ).mean()\n"
   ]
  },
  {
   "cell_type": "code",
   "execution_count": 59,
   "metadata": {},
   "outputs": [
    {
     "data": {
      "text/plain": [
       "0.1687"
      ]
     },
     "execution_count": 59,
     "metadata": {},
     "output_type": "execute_result"
    }
   ],
   "source": [
    "# How likely is it that 450 students all download anaconda without an issue?\n",
    "outcome = [1,0] #1 = fails, 0=downloads\n",
    "corrupt = np.random.choice(outcome, size=(10_000, 450), p=[1/250, 249/250])\n",
    "corrupt_sum = corrupt.sum(axis=1) #axis=1 means sum acrosss all the rows\n",
    "(corrupt_sum == 0 ).mean()\n",
    "\n"
   ]
  },
  {
   "cell_type": "code",
   "execution_count": 109,
   "metadata": {},
   "outputs": [
    {
     "data": {
      "text/plain": [
       "0.026795"
      ]
     },
     "execution_count": 109,
     "metadata": {},
     "output_type": "execute_result"
    }
   ],
   "source": [
    "#7. There's a 70% chance on any given day that there will be at least one food truck at Travis Park. \n",
    "# However, you haven't seen a food truck there in 3 days. How unlikely is this?\n",
    "# How likely is it that a food truck will show up sometime this week?\n",
    "prob = .70\n",
    "outcomes = [1, 0] #1= not there, 0=there\n",
    "food_truck = np.random.choice(outcomes, size=(1_000_000, 3), p=[.30,.70])\n",
    "food_truck_sum = food_truck.sum(axis=1)\n",
    "(food_truck_sum >= 3).mean()"
   ]
  },
  {
   "cell_type": "code",
   "execution_count": 104,
   "metadata": {},
   "outputs": [],
   "source": [
    "#review\n",
    "nsims = 1_000_000\n",
    "ntrials = 3\n",
    "foodtruck = 1\n",
    "notruck = 0\n",
    "lunchdays = np.random.choice([foodtruck, notruck], size = (nsims,ntrials), p = [.7,.3])"
   ]
  },
  {
   "cell_type": "code",
   "execution_count": 106,
   "metadata": {},
   "outputs": [
    {
     "data": {
      "text/plain": [
       "0.026889"
      ]
     },
     "execution_count": 106,
     "metadata": {},
     "output_type": "execute_result"
    }
   ],
   "source": [
    "calculated = (lunchdays.sum(axis=1) == 0).mean()\n",
    "calculated"
   ]
  },
  {
   "cell_type": "code",
   "execution_count": 110,
   "metadata": {},
   "outputs": [],
   "source": [
    "nsims = 1_000_000\n",
    "ntrials = 2\n",
    "foodtruck = 1\n",
    "notruck = 0\n",
    "lunchdays = np.random.choice([foodtruck, notruck], size = (nsims,ntrials), p = [.7,.3])"
   ]
  },
  {
   "cell_type": "code",
   "execution_count": 111,
   "metadata": {},
   "outputs": [
    {
     "data": {
      "text/plain": [
       "0.910331"
      ]
     },
     "execution_count": 111,
     "metadata": {},
     "output_type": "execute_result"
    }
   ],
   "source": [
    "calculated = (lunchdays.sum(axis=1) > 0).mean()\n",
    "calculated"
   ]
  },
  {
   "cell_type": "code",
   "execution_count": null,
   "metadata": {},
   "outputs": [],
   "source": []
  },
  {
   "cell_type": "code",
   "execution_count": 74,
   "metadata": {},
   "outputs": [
    {
     "data": {
      "text/html": [
       "<div>\n",
       "<style scoped>\n",
       "    .dataframe tbody tr th:only-of-type {\n",
       "        vertical-align: middle;\n",
       "    }\n",
       "\n",
       "    .dataframe tbody tr th {\n",
       "        vertical-align: top;\n",
       "    }\n",
       "\n",
       "    .dataframe thead th {\n",
       "        text-align: right;\n",
       "    }\n",
       "</style>\n",
       "<table border=\"1\" class=\"dataframe\">\n",
       "  <thead>\n",
       "    <tr style=\"text-align: right;\">\n",
       "      <th></th>\n",
       "      <th>Day</th>\n",
       "    </tr>\n",
       "  </thead>\n",
       "  <tbody>\n",
       "    <tr>\n",
       "      <th>0</th>\n",
       "      <td>1</td>\n",
       "    </tr>\n",
       "    <tr>\n",
       "      <th>1</th>\n",
       "      <td>2</td>\n",
       "    </tr>\n",
       "    <tr>\n",
       "      <th>2</th>\n",
       "      <td>3</td>\n",
       "    </tr>\n",
       "    <tr>\n",
       "      <th>3</th>\n",
       "      <td>4</td>\n",
       "    </tr>\n",
       "    <tr>\n",
       "      <th>4</th>\n",
       "      <td>5</td>\n",
       "    </tr>\n",
       "    <tr>\n",
       "      <th>...</th>\n",
       "      <td>...</td>\n",
       "    </tr>\n",
       "    <tr>\n",
       "      <th>360</th>\n",
       "      <td>361</td>\n",
       "    </tr>\n",
       "    <tr>\n",
       "      <th>361</th>\n",
       "      <td>362</td>\n",
       "    </tr>\n",
       "    <tr>\n",
       "      <th>362</th>\n",
       "      <td>363</td>\n",
       "    </tr>\n",
       "    <tr>\n",
       "      <th>363</th>\n",
       "      <td>364</td>\n",
       "    </tr>\n",
       "    <tr>\n",
       "      <th>364</th>\n",
       "      <td>365</td>\n",
       "    </tr>\n",
       "  </tbody>\n",
       "</table>\n",
       "<p>365 rows × 1 columns</p>\n",
       "</div>"
      ],
      "text/plain": [
       "     Day\n",
       "0      1\n",
       "1      2\n",
       "2      3\n",
       "3      4\n",
       "4      5\n",
       "..   ...\n",
       "360  361\n",
       "361  362\n",
       "362  363\n",
       "363  364\n",
       "364  365\n",
       "\n",
       "[365 rows x 1 columns]"
      ]
     },
     "execution_count": 74,
     "metadata": {},
     "output_type": "execute_result"
    }
   ],
   "source": [
    "#8. If 23 people are in the same room, what are the odds that two of them share a birthday? \n",
    "# What if it's 20 people? 40?\n",
    "#theoretical = \n",
    "birthdays = list(range(1,366))\n",
    "birthdays\n",
    "df = pd.DataFrame(birthdays, columns = ['Day'])\n",
    "df\n"
   ]
  },
  {
   "cell_type": "code",
   "execution_count": null,
   "metadata": {},
   "outputs": [],
   "source": [
    "#review\n",
    "\n",
    "#days in a year\n",
    "\n",
    "#23 people in the room\n",
    "\n",
    "#we want an instance where both are the same number\n",
    "\n"
   ]
  },
  {
   "cell_type": "code",
   "execution_count": 120,
   "metadata": {},
   "outputs": [],
   "source": [
    "#represent our datas possible outcomes, the number of days in a year\n",
    "outcomes = list(range(0,365))\n",
    "#create the data\n",
    "nsims = 1_000_000\n",
    "ntrials = 23"
   ]
  },
  {
   "cell_type": "code",
   "execution_count": 121,
   "metadata": {},
   "outputs": [],
   "source": [
    "#lets get out sims, make a sim of 1 million classrooms of 23 students\n",
    "\n",
    "classrooms = np.random.choice(outcomes, size=(nsims,ntrials))"
   ]
  },
  {
   "cell_type": "code",
   "execution_count": 122,
   "metadata": {},
   "outputs": [
    {
     "data": {
      "text/plain": [
       "array([[  8, 134, 332, ...,   8, 314, 327],\n",
       "       [283, 333, 259, ..., 245, 354, 171],\n",
       "       [ 84, 264, 273, ..., 161, 260,  21],\n",
       "       ...,\n",
       "       [152,  23, 345, ..., 175, 174,  35],\n",
       "       [274, 169, 345, ..., 186, 209,  40],\n",
       "       [ 54,  10, 292, ..., 332,  43, 112]])"
      ]
     },
     "execution_count": 122,
     "metadata": {},
     "output_type": "execute_result"
    }
   ],
   "source": [
    "classrooms"
   ]
  },
  {
   "cell_type": "code",
   "execution_count": 123,
   "metadata": {},
   "outputs": [
    {
     "data": {
      "text/plain": [
       "23"
      ]
     },
     "execution_count": 123,
     "metadata": {},
     "output_type": "execute_result"
    }
   ],
   "source": [
    "len(classrooms[0])"
   ]
  },
  {
   "cell_type": "code",
   "execution_count": null,
   "metadata": {},
   "outputs": [],
   "source": []
  },
  {
   "cell_type": "code",
   "execution_count": null,
   "metadata": {},
   "outputs": [],
   "source": []
  },
  {
   "cell_type": "code",
   "execution_count": null,
   "metadata": {},
   "outputs": [],
   "source": []
  }
 ],
 "metadata": {
  "kernelspec": {
   "display_name": "Python 3",
   "language": "python",
   "name": "python3"
  },
  "language_info": {
   "codemirror_mode": {
    "name": "ipython",
    "version": 3
   },
   "file_extension": ".py",
   "mimetype": "text/x-python",
   "name": "python",
   "nbconvert_exporter": "python",
   "pygments_lexer": "ipython3",
   "version": "3.8.5"
  }
 },
 "nbformat": 4,
 "nbformat_minor": 4
}
